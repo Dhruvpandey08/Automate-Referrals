{
 "cells": [
  {
   "cell_type": "code",
   "execution_count": 2,
   "id": "ec12a149",
   "metadata": {},
   "outputs": [],
   "source": [
    "from selenium import webdriver\n",
    "from selenium.webdriver.support.ui import WebDriverWait\n",
    "from selenium.webdriver.chrome.options import Options\n",
    "from selenium.webdriver.support import expected_conditions as EC\n",
    "from selenium.webdriver.common.keys import Keys\n",
    "from selenium.webdriver.support import ui\n",
    "from selenium.webdriver.common.by import By\n",
    "from selenium.webdriver.support.ui import Select\n",
    "from selenium.common.exceptions import NoAlertPresentException\n",
    "from selenium.common.exceptions import NoSuchElementException\n",
    "from selenium.common.exceptions import TimeoutException\n",
    "import time\n",
    "import win32clipboard\n",
    "\n",
    "driver = webdriver.Chrome()\n",
    "driver.get('https://accounts.google.com/signup/v2/webcreateaccount?continue=https%3A%2F%2Fwww.google.com%3Fhl%3Den-US&hl=en&dsh=S-1173595690%3A1631170711057628&biz=false&flowName=GlifWebSignIn&flowEntry=SignUp')\n",
    "WebDriverWait(driver,20).until(EC.element_to_be_clickable((By.XPATH,'//*[@id=\"firstName\"]'))).send_keys('pioneer')\n",
    "WebDriverWait(driver,20).until(EC.element_to_be_clickable((By.XPATH,'//*[@id=\"lastName\"]'))).send_keys('john')\n",
    "WebDriverWait(driver,20).until(EC.element_to_be_clickable((By.XPATH,'//*[@id=\"username\"]'))).send_keys('ratcat098')\n",
    "WebDriverWait(driver,20).until(EC.element_to_be_clickable((By.XPATH,'//*[@id=\"passwd\"]/div[1]/div/div[1]/input'))).send_keys('pioneer@18642')\n",
    "WebDriverWait(driver,20).until(EC.element_to_be_clickable((By.XPATH,'//*[@id=\"confirm-passwd\"]/div[1]/div/div[1]/input'))).send_keys('pioneer@18642')\n",
    "WebDriverWait(driver,20).until(EC.element_to_be_clickable((By.XPATH,'//*[@id=\"accountDetailsNext\"]/div/button/span'))).click()\n",
    "\n"
   ]
  },
  {
   "cell_type": "code",
   "execution_count": null,
   "id": "f5499d88",
   "metadata": {},
   "outputs": [],
   "source": []
  }
 ],
 "metadata": {
  "kernelspec": {
   "display_name": "Python 3 (ipykernel)",
   "language": "python",
   "name": "python3"
  },
  "language_info": {
   "codemirror_mode": {
    "name": "ipython",
    "version": 3
   },
   "file_extension": ".py",
   "mimetype": "text/x-python",
   "name": "python",
   "nbconvert_exporter": "python",
   "pygments_lexer": "ipython3",
   "version": "3.9.6"
  }
 },
 "nbformat": 4,
 "nbformat_minor": 5
}
