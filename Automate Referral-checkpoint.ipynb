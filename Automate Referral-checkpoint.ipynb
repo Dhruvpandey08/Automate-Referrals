{
 "cells": [
  {
   "cell_type": "code",
   "execution_count": null,
   "id": "cbe5ad00",
   "metadata": {
    "scrolled": false
   },
   "outputs": [],
   "source": [
    "from selenium import webdriver\n",
    "from selenium.webdriver.common.keys import Keys\n",
    "from selenium.webdriver.support import ui\n",
    "from selenium.webdriver.common.by import By\n",
    "from selenium.webdriver.support import expected_conditions as EC\n",
    "from selenium.webdriver import ActionChains\n",
    "from selenium.webdriver.support.ui import WebDriverWait\n",
    "from selenium.common.exceptions import TimeoutException\n",
    "from selenium.common.exceptions import NoAlertPresentException\n",
    "from selenium.common.exceptions import NoSuchElementException\n",
    "import time\n",
    "import win32clipboard\n",
    "import random\n",
    "import string\n",
    "\n",
    "for i in range(1):\n",
    "    driver = webdriver.Firefox()\n",
    "    driver.get('https://temp-mail.org/')\n",
    "    WebDriverWait(driver,20).until(EC.element_to_be_clickable((By.XPATH, \"//button[@class='btn-rds icon-btn bg-theme click-to-copy copyIconGreenBtn']\"))).click()\n",
    "    win32clipboard.OpenClipboard()\n",
    "    data = win32clipboard.GetClipboardData()\n",
    "    win32clipboard.CloseClipboard()\n",
    "    print(data)\n",
    "    time.sleep(3)\n",
    "    driver.switch_to_window \n",
    "    driver.get('https://www.nikonschool.in/refera_friend')\n",
    "    WebDriverWait(driver,20).until(EC.element_to_be_clickable((By.XPATH,'//*[@id=\"ContentPlaceHolder1_txtBoxUsrname\"]'))).send_keys('dhruvpandey928@gmail.com')\n",
    "    WebDriverWait(driver,20).until(EC.element_to_be_clickable((By.XPATH,'//*[@id=\"ContentPlaceHolder1_txtBoxPass\"]'))).send_keys('vk196108')\n",
    "    WebDriverWait(driver,20).until(EC.element_to_be_clickable((By.XPATH,'//*[@id=\"ContentPlaceHolder1_btnsignin\"]'))).click()\n",
    "    time.sleep(3)\n",
    "    WebDriverWait(driver,20).until(EC.element_to_be_clickable((By.XPATH,'//*[@id=\"page\"]/section/nav/ul/li[9]/a'))).click()\n",
    "    WebDriverWait(driver,20).until(EC.element_to_be_clickable((By.XPATH,'//*[@id=\"page\"]/section/nav/ul/li[9]/ul/li[5]/a'))).click()\n",
    "    WebDriverWait(driver,20).until(EC.element_to_be_clickable((By.XPATH,'//*[@id=\"ContentPlaceHolder1_tags_1_tag\"]'))).send_keys(data)\n",
    "    WebDriverWait(driver,20).until(EC.element_to_be_clickable((By.XPATH,'//*[@id=\"ContentPlaceHolder1_SendInvite\"]'))).click()\n",
    "    time.sleep(3)\n",
    "    driver.back()\n",
    "    driver.back()\n",
    "    driver.back()\n",
    "    driver.back()"
   ]
  }
 ],
 "metadata": {
  "kernelspec": {
   "display_name": "Python 3 (ipykernel)",
   "language": "python",
   "name": "python3"
  },
  "language_info": {
   "codemirror_mode": {
    "name": "ipython",
    "version": 3
   },
   "file_extension": ".py",
   "mimetype": "text/x-python",
   "name": "python",
   "nbconvert_exporter": "python",
   "pygments_lexer": "ipython3",
   "version": "3.9.6"
  }
 },
 "nbformat": 4,
 "nbformat_minor": 5
}
