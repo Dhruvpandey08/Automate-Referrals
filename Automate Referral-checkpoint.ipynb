{
 "cells": [
  {
   "cell_type": "code",
   "execution_count": null,
   "source": [
    "from selenium import webdriver\r\n",
    "from selenium.webdriver.common.keys import Keys\r\n",
    "from selenium.webdriver.support import ui\r\n",
    "from selenium.webdriver.common.by import By\r\n",
    "from selenium.webdriver.support import expected_conditions as EC\r\n",
    "from selenium.webdriver import ActionChains\r\n",
    "from selenium.webdriver.support.ui import WebDriverWait\r\n",
    "from selenium.common.exceptions import TimeoutException\r\n",
    "from selenium.common.exceptions import NoAlertPresentException\r\n",
    "from selenium.common.exceptions import NoSuchElementException\r\n",
    "import time\r\n",
    "import win32clipboard\r\n",
    "import random\r\n",
    "import string\r\n",
    "\r\n",
    "for i in range(1):\r\n",
    "    driver = webdriver.Firefox()\r\n",
    "    driver.get('https://temp-mail.org/')\r\n",
    "    WebDriverWait(driver,20).until(EC.element_to_be_clickable((By.XPATH, \"//button[@class='btn-rds icon-btn bg-theme click-to-copy copyIconGreenBtn']\"))).click()\r\n",
    "    win32clipboard.OpenClipboard()\r\n",
    "    data = win32clipboard.GetClipboardData()\r\n",
    "    win32clipboard.CloseClipboard()\r\n",
    "    print(data)\r\n",
    "    time.sleep(3)\r\n",
    "    driver.switch_to_window \r\n",
    "    driver.get('https://www.nikonschool.in/refera_friend')\r\n",
    "    WebDriverWait(driver,20).until(EC.element_to_be_clickable((By.XPATH,'//*[@id=\"ContentPlaceHolder1_txtBoxUsrname\"]'))).send_keys('abc@gmail.com')\r\n",
    "    WebDriverWait(driver,20).until(EC.element_to_be_clickable((By.XPATH,'//*[@id=\"ContentPlaceHolder1_txtBoxPass\"]'))).send_keys('123')\r\n",
    "    WebDriverWait(driver,20).until(EC.element_to_be_clickable((By.XPATH,'//*[@id=\"ContentPlaceHolder1_btnsignin\"]'))).click()\r\n",
    "    time.sleep(3)\r\n",
    "    WebDriverWait(driver,20).until(EC.element_to_be_clickable((By.XPATH,'//*[@id=\"page\"]/section/nav/ul/li[9]/a'))).click()\r\n",
    "    WebDriverWait(driver,20).until(EC.element_to_be_clickable((By.XPATH,'//*[@id=\"page\"]/section/nav/ul/li[9]/ul/li[5]/a'))).click()\r\n",
    "    WebDriverWait(driver,20).until(EC.element_to_be_clickable((By.XPATH,'//*[@id=\"ContentPlaceHolder1_tags_1_tag\"]'))).send_keys(data)\r\n",
    "    WebDriverWait(driver,20).until(EC.element_to_be_clickable((By.XPATH,'//*[@id=\"ContentPlaceHolder1_SendInvite\"]'))).click()\r\n",
    "    time.sleep(3)\r\n",
    "    driver.back()\r\n",
    "    driver.back()\r\n",
    "    driver.back()\r\n",
    "    driver.back()"
   ],
   "outputs": [],
   "metadata": {
    "scrolled": false
   }
  }
 ],
 "metadata": {
  "kernelspec": {
   "display_name": "Python 3 (ipykernel)",
   "language": "python",
   "name": "python3"
  },
  "language_info": {
   "codemirror_mode": {
    "name": "ipython",
    "version": 3
   },
   "file_extension": ".py",
   "mimetype": "text/x-python",
   "name": "python",
   "nbconvert_exporter": "python",
   "pygments_lexer": "ipython3",
   "version": "3.9.6"
  }
 },
 "nbformat": 4,
 "nbformat_minor": 5
}