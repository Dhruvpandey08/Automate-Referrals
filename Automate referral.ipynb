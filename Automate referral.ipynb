{
 "cells": [
  {
   "cell_type": "code",
   "execution_count": 35,
   "id": "b16e7024",
   "metadata": {},
   "outputs": [],
   "source": [
    "from selenium import webdriver\n",
    "from selenium.webdriver.support.ui import WebDriverWait\n",
    "from selenium.webdriver.chrome.options import Options\n",
    "from selenium.webdriver.support import expected_conditions as EC\n",
    "from selenium.webdriver.common.keys import Keys\n",
    "from selenium.webdriver.support import ui\n",
    "from selenium.webdriver.common.by import By\n",
    "from selenium.webdriver.support.ui import Select\n",
    "from selenium.common.exceptions import NoAlertPresentException\n",
    "from selenium.common.exceptions import NoSuchElementException\n",
    "from selenium.common.exceptions import TimeoutException\n",
    "import time\n",
    "import win32clipboard\n",
    "\n",
    "driver = webdriver.Chrome()\n",
    "#driver.get('https://temp-mail.org')\n",
    "#WebDriverWait(driver,20).until(EC.element_to_be_clickable((By.XPATH, \"//button[@class='btn-rds icon-btn bg-theme click-to-copy copyIconGreenBtn']\"))).click()\n",
    "#win32clipboard.OpenClipboard()\n",
    "#data = win32clipboard.GetClipboardData()\n",
    "#win32clipboard.CloseClipboard()\n",
    "#print(data)\n",
    "driver.get('https://www.nikonschool.in/enrollnow?ref=fb&refid=524811')\n",
    "#WebDriverWait(driver,20).until(EC.element_to_be_clickable((By.XPATH,'//*[@id=\"ContentPlaceHolder1_txtEmail\"]'))).send_keys(data)\n",
    "#WebDriverWait(driver,20).until(EC.element_to_be_clickable((By.XPATH,'//*[@id=\"ContentPlaceHolder1_txtConfirmEmail\"]'))).send_keys(data)\n",
    "WebDriverWait(driver,20).until(EC.element_to_be_clickable((By.XPATH,'//*[@id=\"ContentPlaceHolder1_txtPass\"]'))).send_keys('12345678')\n",
    "WebDriverWait(driver,20).until(EC.element_to_be_clickable((By.XPATH,'//*[@id=\"ContentPlaceHolder1_txtConPass\"]'))).send_keys('12345678')\n",
    "WebDriverWait(driver,20).until(EC.element_to_be_clickable((By.XPATH,'//*[@id=\"ContentPlaceHolder1_rdbtnNkUserNo\"]'))).click()\n",
    "WebDriverWait(driver,20).until(EC.element_to_be_clickable((By.XPATH,'//*[@id=\"ContentPlaceHolder1_txtOtherCamera\"]'))).send_keys('D5300')\n",
    "WebDriverWait(driver,20).until(EC.element_to_be_clickable((By.XPATH,'//*[@id=\"ContentPlaceHolder1_txtFName\"]'))).send_keys('Rahul')\n",
    "WebDriverWait(driver,20).until(EC.element_to_be_clickable((By.XPATH,'//*[@id=\"ContentPlaceHolder1_txtLName\"]'))).send_keys('Gupta')\n",
    "WebDriverWait(driver,20).until(EC.element_to_be_clickable((By.XPATH,'//*[@id=\"ContentPlaceHolder1_ddlCountry\"]/option[2]'))).click()\n",
    "WebDriverWait(driver,20).until(EC.element_to_be_clickable((By.XPATH,'//*[@id=\"ContentPlaceHolder1_ddlState\"]/option[31]'))).click()\n",
    "WebDriverWait(driver,20).until(EC.element_to_be_clickable((By.XPATH,'//*[@id=\"ContentPlaceHolder1_ddlCity\"]/option[4]'))).click()\n",
    "time.sleep(4)\n",
    "WebDriverWait(driver,20).until(EC.element_to_be_clickable((By.XPATH,'//*[@id=\"ContentPlaceHolder1_txtAddress\"]'))).send_keys('45/4,tulip garden')\n",
    "WebDriverWait(driver,20).until(EC.element_to_be_clickable((By.XPATH,'//*[@id=\"ContentPlaceHolder1_txtPin\"]'))).send_keys('423421')\n",
    "WebDriverWait(driver,20).until(EC.element_to_be_clickable((By.XPATH,'//*[@id=\"ContentPlaceHolder1_txtPhNo\"]'))).send_keys(9898876533)\n",
    "WebDriverWait(driver,20).until(EC.element_to_be_clickable((By.XPATH,'//*[@id=\"ContentPlaceHolder1_txtDob\"]'))).send_keys('04/12/1983')\n",
    "WebDriverWait(driver,20).until(EC.element_to_be_clickable((By.XPATH,'//*[@id=\"ContentPlaceHolder1_chkBoxConfirm\"]'))).click()\n",
    "WebDriverWait(driver,20).until(EC.element_to_be_clickable((By.XPATH,'//*[@id=\"ContentPlaceHolder1_btnregister\"]'))).click()\n",
    "time.sleep(3)\n",
    "\n"
   ]
  },
  {
   "cell_type": "code",
   "execution_count": null,
   "id": "9e13ea20",
   "metadata": {},
   "outputs": [],
   "source": []
  }
 ],
 "metadata": {
  "kernelspec": {
   "display_name": "Python 3 (ipykernel)",
   "language": "python",
   "name": "python3"
  },
  "language_info": {
   "codemirror_mode": {
    "name": "ipython",
    "version": 3
   },
   "file_extension": ".py",
   "mimetype": "text/x-python",
   "name": "python",
   "nbconvert_exporter": "python",
   "pygments_lexer": "ipython3",
   "version": "3.9.6"
  }
 },
 "nbformat": 4,
 "nbformat_minor": 5
}
